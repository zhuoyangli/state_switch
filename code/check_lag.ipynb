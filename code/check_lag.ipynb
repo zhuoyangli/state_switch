{
 "cells": [
  {
   "cell_type": "code",
   "execution_count": null,
   "metadata": {},
   "outputs": [
    {
     "name": "stderr",
     "output_type": "stream",
     "text": [
      "/var/folders/r2/rgb930tj5ss_cmb9qkb2mfym0000gn/T/ipykernel_82215/3317762594.py:38: WavFileWarning: Chunk (non-data) not understood, skipping it.\n",
      "  sr, audio = wavfile.read(wav_file)\n"
     ]
    }
   ],
   "source": [
    "import numpy as np\n",
    "from scipy.io import wavfile\n",
    "from utils import load_surf, load_config, butterworth_highpass, zscore, get_envelope, lanczosinterp2D, get_logger, get_embeddings, downsample_embeddings_lanczos\n",
    "import matplotlib.pyplot as plt\n",
    "import matplotlib.gridspec as gridspec\n",
    "import nibabel as nib\n",
    "from nilearn import datasets, surface, plotting\n",
    "import os\n",
    "import time\n",
    "\n",
    "cfg = load_config()\n",
    "DATADIR = cfg['DATA_DIR']\n",
    "STIMDIR = cfg['STIM_DIR']\n",
    "FIGDIR = cfg['FIG_DIR']\n",
    "\n",
    "logging = get_logger()\n",
    "\n",
    "subject = 'sub-007'\n",
    "session = 'ses-02'\n",
    "task = 'christmas1940'\n",
    "hemi = 'L'\n",
    "\n",
    "tr = 1.5\n",
    "\n",
    "fsaverage = datasets.fetch_surf_fsaverage('fsaverage6')\n",
    "\n",
    "surf_file = os.path.join(DATADIR, subject, session, 'func', f'{subject}_{session}_task-{task}_hemi-{hemi}_space-fsaverage6_bold.func.gii')\n",
    "if not os.path.exists(surf_file):\n",
    "    logging.error(f\"Surface file {surf_file} does not exist.\")\n",
    "\n",
    "surf_data = surface.load_surf_data(surf_file)\n",
    "sdata = np.array(surf_data, dtype=np.float64)\n",
    "\n",
    "sdata = zscore(butterworth_highpass(sdata, tr, 0.01), axis=1)\n",
    "\n",
    "# load wav\n",
    "wav_file = os.path.join(STIMDIR, f'{task}.wav')\n",
    "sr, audio = wavfile.read(wav_file)\n",
    "\n",
    "if audio.ndim > 1:\n",
    "    audio_envelope = get_envelope(audio)[:, 0]\n",
    "else:\n",
    "    audio_envelope = get_envelope(audio)\n",
    "\n",
    "audio_envelope_avg = np.mean(audio_envelope[:len(audio_envelope) // int(sr * tr) * int(sr * tr)].reshape(-1, int(sr * tr)), axis=1)\n",
    "\n",
    "zEnv = zscore(audio_envelope_avg)\n",
    "\n",
    "sdata = sdata[:, 2:zEnv.shape[0]+2]\n",
    "\n",
    "# load embeddings\n",
    "embs, starts, stops = get_embeddings(task)\n",
    "n_features = embs.shape[-1]\n",
    "emdata = downsample_embeddings_lanczos(embs, starts, stops, sdata.shape[-1], tr)\n",
    "\n",
    "# trim first and last 10 trs; zscore\n",
    "xdata = zscore(emdata[10:-10], axis=0)\n",
    "ydata = zscore(sdata[:, 10:-10], axis=1)"
   ]
  },
  {
   "cell_type": "code",
   "execution_count": null,
   "metadata": {},
   "outputs": [],
   "source": []
  }
 ],
 "metadata": {
  "kernelspec": {
   "display_name": "state_switch",
   "language": "python",
   "name": "python3"
  },
  "language_info": {
   "codemirror_mode": {
    "name": "ipython",
    "version": 3
   },
   "file_extension": ".py",
   "mimetype": "text/x-python",
   "name": "python",
   "nbconvert_exporter": "python",
   "pygments_lexer": "ipython3",
   "version": "3.12.3"
  }
 },
 "nbformat": 4,
 "nbformat_minor": 2
}
