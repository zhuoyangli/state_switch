{
 "cells": [
  {
   "cell_type": "code",
   "execution_count": null,
   "metadata": {},
   "outputs": [],
   "source": [
    "# prepare dependencies\n",
    "\n",
    "import numpy as np\n",
    "from utils import load_surf, load_config, butterworth_highpass, zscore, make_delayed, get_envelope, lanczosinterp2D, get_logger\n",
    "from ridge import ridge_cv\n",
    "import matplotlib.pyplot as plt\n",
    "import matplotlib.gridspec as gridspec\n",
    "import nibabel as nib\n",
    "import os\n",
    "import time\n",
    "from nilearn import plotting, surface, datasets\n",
    "from scipy.io import wavfile\n",
    "\n",
    "cfg = load_config()\n",
    "DATADIR = cfg['DATA_DIR']\n",
    "STIMDIR = cfg['STIM_DIR']\n",
    "FIGDIR = cfg['FIG_DIR']\n",
    "\n",
    "logging = get_logger()\n",
    "\n",
    "subject = 'sub-007'\n",
    "session = 'ses-01'\n",
    "\n",
    "tr = 1.5\n",
    "\n",
    "fsaverage = datasets.fetch_surf_fsaverage('fsaverage6')"
   ]
  },
  {
   "cell_type": "code",
   "execution_count": null,
   "metadata": {},
   "outputs": [],
   "source": [
    "# story audio envelope encoding model\n",
    "task = 'treasureisland'\n",
    "hemi = 'L'\n",
    "surf_file = os.path.join(DATADIR, subject, session, 'func', f'{subject}_{session}_task-{task}_hemi-{hemi}_space-fsaverage6_bold.func.gii')\n",
    "if not os.path.exists(surf_file):\n",
    "    logging.error(f\"Surface file {surf_file} does not exist.\")\n",
    "\n",
    "surf_data = surface.load_surf_data(surf_file)\n",
    "sdata = np.array(surf_data, dtype=np.float64)\n",
    "\n",
    "sdata = zscore(butterworth_highpass(sdata, tr, 0.01), axis=1)\n",
    "\n",
    "# load wav\n",
    "wav_file = os.path.join(STIMDIR, f'{task}.wav')\n",
    "sr, audio = wavfile.read(wav_file)\n",
    "\n",
    "audio_envelope = get_envelope(audio)[:, 0]\n",
    "\n",
    "audio_envelope_avg = np.mean(audio_envelope[:len(audio_envelope) // int(sr * tr) * int(sr * tr)].reshape(-1, int(sr * tr)), axis=1)\n",
    "\n",
    "zEnv = zscore(audio_envelope_avg)\n",
    "\n",
    "sdata = sdata[:, 2:zEnv.shape[0]+2]"
   ]
  },
  {
   "cell_type": "code",
   "execution_count": null,
   "metadata": {},
   "outputs": [],
   "source": [
    "# audio encoding model\n",
    "n_reps = 10\n",
    "alphas = np.logspace(-3, 3, 7)\n",
    "nfolds = 5\n",
    "\n",
    "n_delays = 5 # 7.5 seconds\n",
    "xdata = make_delayed(zEnv[:, np.newaxis], np.arange(1, n_delays + 1))\n",
    "\n",
    "encperf_all = np.zeros((n_reps, sdata.shape[0]))\n",
    "for i_rep in range(n_reps):\n",
    "    wt, corr, best_alphas, bscorrs, valinds, voxcorrs = ridge_cv(xdata, sdata.T, alphas, nfolds)\n",
    "    encperf_all[i_rep, :] = voxcorrs\n",
    "\n",
    "encperf = np.mean(encperf_all, axis=0)"
   ]
  },
  {
   "cell_type": "code",
   "execution_count": null,
   "metadata": {},
   "outputs": [],
   "source": [
    "fig, axes = plt.subplots(1, 2, figsize=(10, 4), subplot_kw={'projection': '3d'})\n",
    "\n",
    "fl = plotting.plot_surf_stat_map(fsaverage.infl_left, encperf, hemi='left', view='lateral', colorbar=True, bg_map=fsaverage.sulc_left, cmap='seismic', vmax=0.5, vmin=-0.5, threshold=0.1, axes=axes[0], title='Treasure Island \\n Envelope encoding performance (lateral)')\n",
    "fm = plotting.plot_surf_stat_map(fsaverage.infl_left, encperf, hemi='left', view='medial', colorbar=True, bg_map=fsaverage.sulc_left, cmap='seismic', vmax=0.5, vmin=-0.5, threshold=0.1, axes=axes[1], title='Treasure Island \\n Envelope encoding performance (medial)')"
   ]
  }
 ],
 "metadata": {
  "kernelspec": {
   "display_name": "state_switch",
   "language": "python",
   "name": "python3"
  },
  "language_info": {
   "name": "python",
   "version": "3.12.3"
  }
 },
 "nbformat": 4,
 "nbformat_minor": 2
}
